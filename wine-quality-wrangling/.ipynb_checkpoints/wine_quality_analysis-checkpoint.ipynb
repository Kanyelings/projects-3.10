{
 "cells": [
  {
   "cell_type": "markdown",
   "id": "2e9b8bec",
   "metadata": {},
   "source": [
    "# Hello you, 👋\n",
    "### and welcome to this assignment. Let's dive right in!"
   ]
  },
  {
   "cell_type": "markdown",
   "id": "19d46e70",
   "metadata": {},
   "source": [
    "If you haven't read [the README](https://github.com/Kanyelings/projects-3.10/blob/main/README.md) for this project, make sure to do so immediately.\n",
    "\n",
    "This notebook is divided into two sections for now: **Wrangling** and **Analyzing** (except otherwise in the future).\n",
    "Feel free to send your questions to [this mail](mailto:d3liaayoko).\n",
    "\n",
    "Each empty cell in this notebook should contain the solution to the task above it. Also, please do not clear your outputs!"
   ]
  },
  {
   "cell_type": "markdown",
   "id": "cb1b0199",
   "metadata": {},
   "source": [
    "## 1. Wrangling"
   ]
  },
  {
   "cell_type": "markdown",
   "id": "04d9dfe5",
   "metadata": {},
   "source": [
    "**Task 1.1:** Import the dataset`(\"winequality-red.csv\")` and display the first five rows of the DataFrame."
   ]
  },
  {
   "cell_type": "code",
   "execution_count": null,
   "id": "7938f2ee",
   "metadata": {},
   "outputs": [],
   "source": []
  },
  {
   "cell_type": "markdown",
   "id": "b776c4b2",
   "metadata": {},
   "source": [
    "**Task 1.2:** Inspect the DataFrame using [any 3 of these ways.](https://www.google.com/url?sa=t&rct=j&q=&esrc=s&source=web&cd=&cad=rja&uact=8&ved=2ahUKEwi-gZHst4uAAxWLRaQEHf_GA_4QFnoECA8QAQ&url=https%3A%2F%2Fmedium.com%2Fcodex%2F10-efficient-ways-for-inspecting-a-pandas-dataframe-object-3f66563e2f2&usg=AOvVaw2XnUUADHfXp3llJVL3JClr&opi=89978449). If there are any missing values, drop them."
   ]
  },
  {
   "cell_type": "code",
   "execution_count": null,
   "id": "01164d7e",
   "metadata": {},
   "outputs": [],
   "source": []
  },
  {
   "cell_type": "markdown",
   "id": "11480b4b",
   "metadata": {},
   "source": [
    "**Task 1.3:** Drop the `quality` column."
   ]
  },
  {
   "cell_type": "code",
   "execution_count": null,
   "id": "86d97d09",
   "metadata": {},
   "outputs": [],
   "source": []
  },
  {
   "cell_type": "markdown",
   "id": "87906311",
   "metadata": {},
   "source": [
    "**Task 1.4:** Subset the DataFrame such that it masks only wine with `alcohol` value greater than or equal to **12.0**."
   ]
  },
  {
   "cell_type": "code",
   "execution_count": null,
   "id": "4ca19397",
   "metadata": {},
   "outputs": [],
   "source": []
  },
  {
   "cell_type": "markdown",
   "id": "900ce9d8",
   "metadata": {},
   "source": [
    "**Task 1.5:** Subset the DataFrame again, this time, masking only wine with `pH` value greater than or equal to **2.0**."
   ]
  },
  {
   "cell_type": "code",
   "execution_count": null,
   "id": "7c5e3054",
   "metadata": {},
   "outputs": [],
   "source": []
  },
  {
   "cell_type": "markdown",
   "id": "a7278b89",
   "metadata": {},
   "source": [
    "## 2. Analyzing\n",
    "\n",
    "For the next series of tasks. The instructions will be updated as soon as the others have been completed.\n",
    "\n",
    "Have fun, champ!"
   ]
  },
  {
   "cell_type": "markdown",
   "id": "13244e54",
   "metadata": {},
   "source": [
    "**Task 2.1:**"
   ]
  },
  {
   "cell_type": "code",
   "execution_count": null,
   "id": "700c08e0",
   "metadata": {},
   "outputs": [],
   "source": []
  },
  {
   "cell_type": "markdown",
   "id": "65106e1e",
   "metadata": {},
   "source": [
    "**Task 2.2:**"
   ]
  },
  {
   "cell_type": "code",
   "execution_count": null,
   "id": "caa15da6",
   "metadata": {},
   "outputs": [],
   "source": []
  },
  {
   "cell_type": "markdown",
   "id": "76c646ad",
   "metadata": {},
   "source": [
    "**Task 2.3:**"
   ]
  },
  {
   "cell_type": "code",
   "execution_count": null,
   "id": "028dc350",
   "metadata": {},
   "outputs": [],
   "source": []
  }
 ],
 "metadata": {
  "kernelspec": {
   "display_name": "Python 3 (ipykernel)",
   "language": "python",
   "name": "python3"
  },
  "language_info": {
   "codemirror_mode": {
    "name": "ipython",
    "version": 3
   },
   "file_extension": ".py",
   "mimetype": "text/x-python",
   "name": "python",
   "nbconvert_exporter": "python",
   "pygments_lexer": "ipython3",
   "version": "3.8.10"
  }
 },
 "nbformat": 4,
 "nbformat_minor": 5
}
