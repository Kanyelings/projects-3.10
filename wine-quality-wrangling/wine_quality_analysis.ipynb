{
 "cells": [
  {
   "cell_type": "markdown",
   "id": "2e9b8bec",
   "metadata": {},
   "source": [
    "# Hello you, 👋\n",
    "### and welcome to this assignment. Let's dive right in!"
   ]
  },
  {
   "cell_type": "markdown",
   "id": "19d46e70",
   "metadata": {},
   "source": [
    "If you haven't read [the README](https://github.com/Kanyelings/projects-3.10/blob/main/README.md) for this project, make sure to do so immediately.\n",
    "\n",
    "This notebook is divided into two sections for now: **Wrangling** and **Analyzing** (except otherwise in the future).\n",
    "Feel free to send your questions to [this mail](mailto:d3liaayoko).\n",
    "\n",
    "Each empty cell in this notebook should contain the solution to the task above it. Also, please do not clear your outputs!"
   ]
  },
  {
   "cell_type": "markdown",
   "id": "cb1b0199",
   "metadata": {},
   "source": [
    "## 1. Wrangling"
   ]
  },
  {
   "cell_type": "markdown",
   "id": "04d9dfe5",
   "metadata": {},
   "source": [
    "**Task 1.1:** Import the dataset`(\"winequality-red.csv\")` and display the first five rows of the DataFrame."
   ]
  },
  {
   "cell_type": "code",
   "execution_count": 2,
   "id": "7938f2ee",
   "metadata": {},
   "outputs": [
    {
     "name": "stdout",
     "output_type": "stream",
     "text": [
      "   fixed acidity  volatile acidity  citric acid  residual sugar  chlorides  \\\n",
      "0            7.4              0.70         0.00             1.9      0.076   \n",
      "1            7.8              0.88         0.00             2.6      0.098   \n",
      "2            7.8              0.76         0.04             2.3      0.092   \n",
      "3           11.2              0.28         0.56             1.9      0.075   \n",
      "4            7.4              0.70         0.00             1.9      0.076   \n",
      "\n",
      "   free sulfur dioxide  total sulfur dioxide  density    pH  sulphates  \\\n",
      "0                 11.0                  34.0   0.9978  3.51       0.56   \n",
      "1                 25.0                  67.0   0.9968  3.20       0.68   \n",
      "2                 15.0                  54.0   0.9970  3.26       0.65   \n",
      "3                 17.0                  60.0   0.9980  3.16       0.58   \n",
      "4                 11.0                  34.0   0.9978  3.51       0.56   \n",
      "\n",
      "   alcohol  quality  \n",
      "0      9.4        5  \n",
      "1      9.8        5  \n",
      "2      9.8        5  \n",
      "3      9.8        6  \n",
      "4      9.4        5  \n"
     ]
    }
   ],
   "source": [
    "import pandas as pd\n",
    "\n",
    "# Import the CSV file and read it into a DataFrame\n",
    "df = pd.read_csv(\"wine-quality dataset/winequality-red.csv\")\n",
    "\n",
    "# Display the first five rows of the DataFrame\n",
    "print(df.head())"
   ]
  },
  {
   "cell_type": "markdown",
   "id": "b776c4b2",
   "metadata": {},
   "source": [
    "**Task 1.2:** Inspect the DataFrame using [any 3 of these ways.](https://www.google.com/url?sa=t&rct=j&q=&esrc=s&source=web&cd=&cad=rja&uact=8&ved=2ahUKEwi-gZHst4uAAxWLRaQEHf_GA_4QFnoECA8QAQ&url=https%3A%2F%2Fmedium.com%2Fcodex%2F10-efficient-ways-for-inspecting-a-pandas-dataframe-object-3f66563e2f2&usg=AOvVaw2XnUUADHfXp3llJVL3JClr&opi=89978449). If there are any missing values, drop them."
   ]
  },
  {
   "cell_type": "code",
   "execution_count": 9,
   "id": "01164d7e",
   "metadata": {},
   "outputs": [
    {
     "name": "stdout",
     "output_type": "stream",
     "text": [
      "inspect the DataFrame for missing values\n",
      "      fixed acidity  volatile acidity  citric acid  residual sugar  chlorides  \\\n",
      "0             False             False        False           False      False   \n",
      "1             False             False        False           False      False   \n",
      "2             False             False        False           False      False   \n",
      "3             False             False        False           False      False   \n",
      "4             False             False        False           False      False   \n",
      "...             ...               ...          ...             ...        ...   \n",
      "1594          False             False        False           False      False   \n",
      "1595          False             False        False           False      False   \n",
      "1596          False             False        False           False      False   \n",
      "1597          False             False        False           False      False   \n",
      "1598          False             False        False           False      False   \n",
      "\n",
      "      free sulfur dioxide  total sulfur dioxide  density     pH  sulphates  \\\n",
      "0                   False                 False    False  False      False   \n",
      "1                   False                 False    False  False      False   \n",
      "2                   False                 False    False  False      False   \n",
      "3                   False                 False    False  False      False   \n",
      "4                   False                 False    False  False      False   \n",
      "...                   ...                   ...      ...    ...        ...   \n",
      "1594                False                 False    False  False      False   \n",
      "1595                False                 False    False  False      False   \n",
      "1596                False                 False    False  False      False   \n",
      "1597                False                 False    False  False      False   \n",
      "1598                False                 False    False  False      False   \n",
      "\n",
      "      alcohol  quality  \n",
      "0       False    False  \n",
      "1       False    False  \n",
      "2       False    False  \n",
      "3       False    False  \n",
      "4       False    False  \n",
      "...       ...      ...  \n",
      "1594    False    False  \n",
      "1595    False    False  \n",
      "1596    False    False  \n",
      "1597    False    False  \n",
      "1598    False    False  \n",
      "\n",
      "[1599 rows x 12 columns]\n",
      "inspect the cleaned DataFrame for missing values\n",
      "      fixed acidity  volatile acidity  citric acid  residual sugar  chlorides  \\\n",
      "0             False             False        False           False      False   \n",
      "1             False             False        False           False      False   \n",
      "2             False             False        False           False      False   \n",
      "3             False             False        False           False      False   \n",
      "4             False             False        False           False      False   \n",
      "...             ...               ...          ...             ...        ...   \n",
      "1594          False             False        False           False      False   \n",
      "1595          False             False        False           False      False   \n",
      "1596          False             False        False           False      False   \n",
      "1597          False             False        False           False      False   \n",
      "1598          False             False        False           False      False   \n",
      "\n",
      "      free sulfur dioxide  total sulfur dioxide  density     pH  sulphates  \\\n",
      "0                   False                 False    False  False      False   \n",
      "1                   False                 False    False  False      False   \n",
      "2                   False                 False    False  False      False   \n",
      "3                   False                 False    False  False      False   \n",
      "4                   False                 False    False  False      False   \n",
      "...                   ...                   ...      ...    ...        ...   \n",
      "1594                False                 False    False  False      False   \n",
      "1595                False                 False    False  False      False   \n",
      "1596                False                 False    False  False      False   \n",
      "1597                False                 False    False  False      False   \n",
      "1598                False                 False    False  False      False   \n",
      "\n",
      "      alcohol  quality  \n",
      "0       False    False  \n",
      "1       False    False  \n",
      "2       False    False  \n",
      "3       False    False  \n",
      "4       False    False  \n",
      "...       ...      ...  \n",
      "1594    False    False  \n",
      "1595    False    False  \n",
      "1596    False    False  \n",
      "1597    False    False  \n",
      "1598    False    False  \n",
      "\n",
      "[1599 rows x 12 columns]\n"
     ]
    }
   ],
   "source": [
    "# inspect the DataFrame for missing values\n",
    "print(\"inspect the DataFrame for missing values\")\n",
    "print(df.isnull())\n",
    "\n",
    "\n",
    "# drop the missing values and assign the cleaned DataFrame back to df\n",
    "df = df.dropna()\n",
    "\n",
    "# inspect the cleaned DataFrame for missing values\n",
    "print(\"inspect the cleaned DataFrame for missing values\")\n",
    "print(df.isnull())\n"
   ]
  },
  {
   "cell_type": "markdown",
   "id": "11480b4b",
   "metadata": {},
   "source": [
    "**Task 1.3:** Drop the `quality` column."
   ]
  },
  {
   "cell_type": "code",
   "execution_count": 11,
   "id": "86d97d09",
   "metadata": {},
   "outputs": [
    {
     "name": "stdout",
     "output_type": "stream",
     "text": [
      "      fixed acidity  volatile acidity  citric acid  residual sugar  chlorides  \\\n",
      "0               7.4             0.700         0.00             1.9      0.076   \n",
      "1               7.8             0.880         0.00             2.6      0.098   \n",
      "2               7.8             0.760         0.04             2.3      0.092   \n",
      "3              11.2             0.280         0.56             1.9      0.075   \n",
      "4               7.4             0.700         0.00             1.9      0.076   \n",
      "...             ...               ...          ...             ...        ...   \n",
      "1594            6.2             0.600         0.08             2.0      0.090   \n",
      "1595            5.9             0.550         0.10             2.2      0.062   \n",
      "1596            6.3             0.510         0.13             2.3      0.076   \n",
      "1597            5.9             0.645         0.12             2.0      0.075   \n",
      "1598            6.0             0.310         0.47             3.6      0.067   \n",
      "\n",
      "      free sulfur dioxide  total sulfur dioxide  density    pH  sulphates  \\\n",
      "0                    11.0                  34.0  0.99780  3.51       0.56   \n",
      "1                    25.0                  67.0  0.99680  3.20       0.68   \n",
      "2                    15.0                  54.0  0.99700  3.26       0.65   \n",
      "3                    17.0                  60.0  0.99800  3.16       0.58   \n",
      "4                    11.0                  34.0  0.99780  3.51       0.56   \n",
      "...                   ...                   ...      ...   ...        ...   \n",
      "1594                 32.0                  44.0  0.99490  3.45       0.58   \n",
      "1595                 39.0                  51.0  0.99512  3.52       0.76   \n",
      "1596                 29.0                  40.0  0.99574  3.42       0.75   \n",
      "1597                 32.0                  44.0  0.99547  3.57       0.71   \n",
      "1598                 18.0                  42.0  0.99549  3.39       0.66   \n",
      "\n",
      "      alcohol  \n",
      "0         9.4  \n",
      "1         9.8  \n",
      "2         9.8  \n",
      "3         9.8  \n",
      "4         9.4  \n",
      "...       ...  \n",
      "1594     10.5  \n",
      "1595     11.2  \n",
      "1596     11.0  \n",
      "1597     10.2  \n",
      "1598     11.0  \n",
      "\n",
      "[1599 rows x 11 columns]\n"
     ]
    }
   ],
   "source": [
    "# drop the 'Quality' column and assign the modified DataFrame back to df\n",
    "df = df.drop('quality', axis=1)\n",
    "\n",
    "# print the modified DataFrame\n",
    "print(df)"
   ]
  },
  {
   "cell_type": "markdown",
   "id": "87906311",
   "metadata": {},
   "source": [
    "**Task 1.4:** Subset the DataFrame such that it masks only wine with `alcohol` value greater than or equal to **12.0**."
   ]
  },
  {
   "cell_type": "code",
   "execution_count": 12,
   "id": "4ca19397",
   "metadata": {},
   "outputs": [
    {
     "name": "stdout",
     "output_type": "stream",
     "text": [
      "      fixed acidity  volatile acidity  citric acid  residual sugar  chlorides  \\\n",
      "45              4.6              0.52         0.15             2.1      0.054   \n",
      "95              4.7              0.60         0.17             2.3      0.058   \n",
      "131             5.6              0.50         0.09             2.3      0.049   \n",
      "132             5.6              0.50         0.09             2.3      0.049   \n",
      "142             5.2              0.34         0.00             1.8      0.050   \n",
      "...             ...               ...          ...             ...        ...   \n",
      "1538            6.2              0.64         0.09             2.5      0.081   \n",
      "1547            6.3              0.60         0.10             1.6      0.048   \n",
      "1570            6.4              0.36         0.53             2.2      0.230   \n",
      "1573            6.0              0.58         0.20             2.4      0.075   \n",
      "1588            7.2              0.66         0.33             2.5      0.068   \n",
      "\n",
      "      free sulfur dioxide  total sulfur dioxide  density    pH  sulphates  \\\n",
      "45                    8.0                  65.0  0.99340  3.90       0.56   \n",
      "95                   17.0                 106.0  0.99320  3.85       0.60   \n",
      "131                  17.0                  99.0  0.99370  3.63       0.63   \n",
      "132                  17.0                  99.0  0.99370  3.63       0.63   \n",
      "142                  27.0                  63.0  0.99160  3.68       0.79   \n",
      "...                   ...                   ...      ...   ...        ...   \n",
      "1538                 15.0                  26.0  0.99538  3.57       0.63   \n",
      "1547                 12.0                  26.0  0.99306  3.55       0.51   \n",
      "1570                 19.0                  35.0  0.99340  3.37       0.93   \n",
      "1573                 15.0                  50.0  0.99467  3.58       0.67   \n",
      "1588                 34.0                 102.0  0.99414  3.27       0.78   \n",
      "\n",
      "      alcohol  \n",
      "45       13.1  \n",
      "95       12.9  \n",
      "131      13.0  \n",
      "132      13.0  \n",
      "142      14.0  \n",
      "...       ...  \n",
      "1538     12.0  \n",
      "1547     12.1  \n",
      "1570     12.4  \n",
      "1573     12.5  \n",
      "1588     12.8  \n",
      "\n",
      "[162 rows x 11 columns]\n"
     ]
    }
   ],
   "source": [
    "# subset the DataFrame based on the condition \"alcohol >= 12.0\"\n",
    "df_subset = df[df['alcohol'] >= 12.0]\n",
    "\n",
    "# print the subsetted DataFrame\n",
    "print(df_subset)"
   ]
  },
  {
   "cell_type": "markdown",
   "id": "900ce9d8",
   "metadata": {},
   "source": [
    "**Task 1.5:** Subset the DataFrame again, this time, masking only wine with `pH` value greater than or equal to **2.0**."
   ]
  },
  {
   "cell_type": "code",
   "execution_count": 13,
   "id": "7c5e3054",
   "metadata": {},
   "outputs": [
    {
     "name": "stdout",
     "output_type": "stream",
     "text": [
      "      fixed acidity  volatile acidity  citric acid  residual sugar  chlorides  \\\n",
      "0               7.4             0.700         0.00             1.9      0.076   \n",
      "1               7.8             0.880         0.00             2.6      0.098   \n",
      "2               7.8             0.760         0.04             2.3      0.092   \n",
      "3              11.2             0.280         0.56             1.9      0.075   \n",
      "4               7.4             0.700         0.00             1.9      0.076   \n",
      "...             ...               ...          ...             ...        ...   \n",
      "1594            6.2             0.600         0.08             2.0      0.090   \n",
      "1595            5.9             0.550         0.10             2.2      0.062   \n",
      "1596            6.3             0.510         0.13             2.3      0.076   \n",
      "1597            5.9             0.645         0.12             2.0      0.075   \n",
      "1598            6.0             0.310         0.47             3.6      0.067   \n",
      "\n",
      "      free sulfur dioxide  total sulfur dioxide  density    pH  sulphates  \\\n",
      "0                    11.0                  34.0  0.99780  3.51       0.56   \n",
      "1                    25.0                  67.0  0.99680  3.20       0.68   \n",
      "2                    15.0                  54.0  0.99700  3.26       0.65   \n",
      "3                    17.0                  60.0  0.99800  3.16       0.58   \n",
      "4                    11.0                  34.0  0.99780  3.51       0.56   \n",
      "...                   ...                   ...      ...   ...        ...   \n",
      "1594                 32.0                  44.0  0.99490  3.45       0.58   \n",
      "1595                 39.0                  51.0  0.99512  3.52       0.76   \n",
      "1596                 29.0                  40.0  0.99574  3.42       0.75   \n",
      "1597                 32.0                  44.0  0.99547  3.57       0.71   \n",
      "1598                 18.0                  42.0  0.99549  3.39       0.66   \n",
      "\n",
      "      alcohol  \n",
      "0         9.4  \n",
      "1         9.8  \n",
      "2         9.8  \n",
      "3         9.8  \n",
      "4         9.4  \n",
      "...       ...  \n",
      "1594     10.5  \n",
      "1595     11.2  \n",
      "1596     11.0  \n",
      "1597     10.2  \n",
      "1598     11.0  \n",
      "\n",
      "[1599 rows x 11 columns]\n"
     ]
    }
   ],
   "source": [
    "# subset the DataFrame based on the condition \"pH >= 2.0\"\n",
    "df_subset = df[df['pH'] >= 2.0]\n",
    "\n",
    "# print the subsetted DataFrame\n",
    "print(df_subset)"
   ]
  },
  {
   "cell_type": "markdown",
   "id": "a7278b89",
   "metadata": {},
   "source": [
    "## 2. Analyzing\n",
    "\n",
    "For the next series of tasks. The instructions will be updated as soon as the others have been completed.\n",
    "\n",
    "Have fun, champ!"
   ]
  },
  {
   "cell_type": "markdown",
   "id": "13244e54",
   "metadata": {},
   "source": [
    "**Task 2.1:**"
   ]
  },
  {
   "cell_type": "code",
   "execution_count": null,
   "id": "700c08e0",
   "metadata": {},
   "outputs": [],
   "source": []
  },
  {
   "cell_type": "markdown",
   "id": "65106e1e",
   "metadata": {},
   "source": [
    "**Task 2.2:**"
   ]
  },
  {
   "cell_type": "code",
   "execution_count": null,
   "id": "caa15da6",
   "metadata": {},
   "outputs": [],
   "source": []
  },
  {
   "cell_type": "markdown",
   "id": "76c646ad",
   "metadata": {},
   "source": [
    "**Task 2.3:**"
   ]
  },
  {
   "cell_type": "code",
   "execution_count": null,
   "id": "028dc350",
   "metadata": {},
   "outputs": [],
   "source": []
  }
 ],
 "metadata": {
  "kernelspec": {
   "display_name": "Python 3 (ipykernel)",
   "language": "python",
   "name": "python3"
  },
  "language_info": {
   "codemirror_mode": {
    "name": "ipython",
    "version": 3
   },
   "file_extension": ".py",
   "mimetype": "text/x-python",
   "name": "python",
   "nbconvert_exporter": "python",
   "pygments_lexer": "ipython3",
   "version": "3.10.9"
  }
 },
 "nbformat": 4,
 "nbformat_minor": 5
}
